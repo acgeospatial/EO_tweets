{
 "cells": [
  {
   "cell_type": "code",
   "execution_count": 1,
   "metadata": {},
   "outputs": [],
   "source": [
    "import pandas as pd\n",
    "import re\n",
    "from textblob import TextBlob ## sentiment analysis\n",
    "import csv"
   ]
  },
  {
   "cell_type": "code",
   "execution_count": 2,
   "metadata": {},
   "outputs": [],
   "source": [
    "def processPandas(file):\n",
    "\n",
    "    ## read in the tweets into a pandas dataframe\n",
    "    rs_df = pd.read_csv(file)\n",
    "    \n",
    "    \n",
    "    ## create a new dataframe of instance counts and reset the index\n",
    "    new_df = pd.DataFrame(rs_df['username'].value_counts().reset_index().values, columns=[\"user\", \"Count\"])\n",
    "    ## sort the index basd on date order (oldest first)\n",
    "    new_df = new_df.sort_index(axis = 0, ascending=True)\n",
    "  \n",
    "    ## just need to add the dates to the dataframe\n",
    "    \n",
    "    return new_df"
   ]
  },
  {
   "cell_type": "code",
   "execution_count": 3,
   "metadata": {},
   "outputs": [
    {
     "name": "stderr",
     "output_type": "stream",
     "text": [
      "C:\\Users\\andre\\Anaconda3\\lib\\site-packages\\IPython\\core\\interactiveshell.py:2850: DtypeWarning: Columns (9,23,24,25,26,29) have mixed types. Specify dtype option on import or set low_memory=False.\n",
      "  if self.run_code(code, result):\n"
     ]
    },
    {
     "name": "stdout",
     "output_type": "stream",
     "text": [
      "top 5 users most tweets about EarthObservation\n",
      "              user Count\n",
      "0     themapaddict  2608\n",
      "1       pixalytics  1278\n",
      "2           esa_eo   355\n",
      "3     spacewatchgl   345\n",
      "4  hayleyeversking   180\n",
      "\n",
      "top 5 users most tweets about RemoteSensing\n",
      "\n",
      "           user Count\n",
      "0  themapaddict  6782\n",
      "1     geomurmur  1522\n",
      "2  elpidiofilho  1510\n",
      "3   geoappsmith  1460\n",
      "4    pixalytics  1420\n"
     ]
    }
   ],
   "source": [
    "file = 'tweets-EO.csv'\n",
    "eo_data = processPandas(file)\n",
    "\n",
    "print (\"top 5 users most tweets about EarthObservation\")\n",
    "print (eo_data.head())\n",
    "\n",
    "print()\n",
    "file = 'tweets-RS.csv'\n",
    "eo2_data = processPandas(file)\n",
    "\n",
    "print (\"top 5 users most tweets about RemoteSensing\")\n",
    "print ()\n",
    "print (eo2_data.head())"
   ]
  },
  {
   "cell_type": "code",
   "execution_count": null,
   "metadata": {},
   "outputs": [],
   "source": []
  }
 ],
 "metadata": {
  "kernelspec": {
   "display_name": "Python 3",
   "language": "python",
   "name": "python3"
  },
  "language_info": {
   "codemirror_mode": {
    "name": "ipython",
    "version": 3
   },
   "file_extension": ".py",
   "mimetype": "text/x-python",
   "name": "python",
   "nbconvert_exporter": "python",
   "pygments_lexer": "ipython3",
   "version": "3.6.4"
  }
 },
 "nbformat": 4,
 "nbformat_minor": 2
}
